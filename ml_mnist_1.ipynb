{
 "cells": [
  {
   "cell_type": "markdown",
   "id": "5043a280",
   "metadata": {},
   "source": [
    "### Multiclass Classification"
   ]
  },
  {
   "cell_type": "markdown",
   "id": "a63f74ea",
   "metadata": {},
   "source": [
    "This notebook handles the same problem as ml_mnist_0 but with a multiclass approach"
   ]
  },
  {
   "cell_type": "code",
   "execution_count": 13,
   "id": "bdfb41b6",
   "metadata": {},
   "outputs": [
    {
     "name": "stdout",
     "output_type": "stream",
     "text": [
      "dict_keys(['data', 'target', 'frame', 'feature_names', 'target_names', 'images', 'DESCR'])\n"
     ]
    }
   ],
   "source": [
    "from sklearn.datasets import load_digits\n",
    "from sklearn.model_selection import train_test_split\n",
    "\n",
    "\n",
    "mnist_data = load_digits()\n",
    "\n",
    "print(mnist_data.keys())\n",
    "\n",
    "X = mnist_data['data']\n",
    "y = mnist_data['target']"
   ]
  },
  {
   "cell_type": "markdown",
   "id": "4dc9b878",
   "metadata": {},
   "source": [
    "#### Inspecting stuff 😁🙂😁😎"
   ]
  },
  {
   "cell_type": "code",
   "execution_count": 48,
   "id": "d97de1c1",
   "metadata": {},
   "outputs": [
    {
     "name": "stdout",
     "output_type": "stream",
     "text": [
      "[[ 0.  0.  0.  4. 11. 15. 15.  2.]\n",
      " [ 0.  1. 10. 16. 13. 14. 14.  2.]\n",
      " [ 0.  5. 16. 16. 16. 16. 14.  0.]\n",
      " [ 0.  0.  9.  8.  8. 15.  9.  0.]\n",
      " [ 0.  0.  0.  0.  1. 16.  2.  0.]\n",
      " [ 0.  0.  0.  0. 10. 10.  0.  0.]\n",
      " [ 0.  0.  0.  1. 16.  6.  0.  0.]\n",
      " [ 0.  0.  0.  3. 16.  2.  0.  0.]]\n"
     ]
    },
    {
     "data": {
      "image/png": "[encoded data removed]",
      "text/plain": [
       "<Figure size 432x288 with 1 Axes>"
      ]
     },
     "metadata": {
      "needs_background": "light"
     },
     "output_type": "display_data"
    },
    {
     "name": "stdout",
     "output_type": "stream",
     "text": [
      "Actual Value: 9\n"
     ]
    }
   ],
   "source": [
    "# plotting a randome instance in the X\n",
    "import random\n",
    "%matplotlib inline\n",
    "import matplotlib\n",
    "import matplotlib.pyplot as plt\n",
    "\n",
    "rand_int = random.randint(0, len(X))\n",
    "rand_digit = X[rand_int]\n",
    "rand_digit_image = rand_digit.reshape(8, 8)\n",
    "\n",
    "print(rand_digit_image)\n",
    "\n",
    "plt.imshow(rand_digit_image, cmap=matplotlib.cm.binary)\n",
    "plt.show()\n",
    "\n",
    "print(f\"Actual Value: {y[rand_int]}\")"
   ]
  },
  {
   "cell_type": "code",
   "execution_count": 8,
   "id": "0de866ed",
   "metadata": {},
   "outputs": [
    {
     "name": "stdout",
     "output_type": "stream",
     "text": [
      "(1797, 64)\n",
      "(1797,)\n"
     ]
    }
   ],
   "source": [
    "print(X.shape)\n",
    "print(y.shape)"
   ]
  },
  {
   "cell_type": "markdown",
   "id": "b9502453",
   "metadata": {},
   "source": [
    "#### Splitting data"
   ]
  },
  {
   "cell_type": "code",
   "execution_count": 35,
   "id": "62a10c6e",
   "metadata": {},
   "outputs": [],
   "source": [
    "X_train, X_test, y_train, y_test = train_test_split(X, y, test_size=0.4, random_state=42)"
   ]
  },
  {
   "cell_type": "markdown",
   "id": "49dd518f",
   "metadata": {},
   "source": [
    "#### Training model\n",
    "\n",
    "Some algorithms (such as Random Forest classifiers or naive Bayes classifiers) are capable of handling multiple classes directly. Others (such as Support Vector Machine classifiers or Linear classifiers) are strictly binary classifiers.\n",
    "\n",
    "However, there are various strategies that you can use to perform multiclass classification using multiple binary classifiers.\n",
    "\n",
    "For example, one way to create a system that can classify the digit images into 10 classes (from 0 to 9) is to train 10 binary classifiers, one for each digit (a 0-detector, a 1-detector, a 2-detector, and so on). Then when you want to classify an image, you get the decision score from each classifier for that image and you select the class whose classifier outputs the highest score. \n",
    "\n",
    "This is called the **one-versus-all** (OvA) strategy (also called **one-versus-the-rest**)."
   ]
  },
  {
   "cell_type": "markdown",
   "id": "efc4db92",
   "metadata": {},
   "source": [
    "Scikit-Learn detects when you try to use a binary classification algorithm for a multiclass classification task, and it automatically runs OvA. Like the example below 👇"
   ]
  },
  {
   "cell_type": "code",
   "execution_count": 49,
   "id": "b43d7e7d",
   "metadata": {},
   "outputs": [
    {
     "data": {
      "text/plain": [
       "array([9])"
      ]
     },
     "execution_count": 49,
     "metadata": {},
     "output_type": "execute_result"
    }
   ],
   "source": [
    "from sklearn.linear_model import SGDClassifier\n",
    "\n",
    "sgd = SGDClassifier(random_state=42)       # SGDClassifier is a strict binary classifier\n",
    "\n",
    "sgd.fit(X_train, y_train)       # sklearn automatically detects we are trying to use a binary classifier for a multiclass classification task and it automatically runs One-versus-All \n",
    "\n",
    "# test trained model on the rand_digit_imagabse\n",
    "sgd.predict([rand_digit])"
   ]
  },
  {
   "cell_type": "markdown",
   "id": "f4d42256",
   "metadata": {},
   "source": [
    "If you want to force ScikitLearn to use one-versus-one or one-versus-all, you can use the OneVsOneClassifier or  OneVsRestClassifier classes. Simply create an instance and pass a binary classifier to its constructor. For example, this code creates a multiclass classifier using the OvO strategy, based on a SGDClassifier:"
   ]
  },
  {
   "cell_type": "code",
   "execution_count": 54,
   "id": "1854543c",
   "metadata": {},
   "outputs": [
    {
     "data": {
      "text/plain": [
       "array([9])"
      ]
     },
     "execution_count": 54,
     "metadata": {},
     "output_type": "execute_result"
    }
   ],
   "source": [
    "from sklearn.multiclass import OneVsOneClassifier\n",
    "\n",
    "ovo_clf = OneVsOneClassifier(SGDClassifier(random_state=42))\n",
    "ovo_clf.fit(X_train, y_train)\n",
    "ovo_clf.predict([rand_digit])"
   ]
  },
  {
   "cell_type": "code",
   "execution_count": 55,
   "id": "79b316f6",
   "metadata": {},
   "outputs": [
    {
     "data": {
      "text/plain": [
       "45"
      ]
     },
     "execution_count": 55,
     "metadata": {},
     "output_type": "execute_result"
    }
   ],
   "source": [
    "len(ovo_clf.estimators_)"
   ]
  },
  {
   "cell_type": "markdown",
   "id": "ee41a299",
   "metadata": {},
   "source": [
    "#### Inspecting Trained model"
   ]
  },
  {
   "cell_type": "markdown",
   "id": "d43e9b9b",
   "metadata": {},
   "source": [
    "Under the hood, Scikit-Learn actually trained 10 binary classifiers, got their decision scores for the image, and selected the class with the highest score.\n",
    "\n",
    "To see that this is indeed the case, you can call the decision_function() method. Instead of returning just one score per instance, it now returns 10 scores, one per\n",
    "class:"
   ]
  },
  {
   "cell_type": "code",
   "execution_count": 50,
   "id": "5ca2eb2d",
   "metadata": {},
   "outputs": [
    {
     "data": {
      "text/plain": [
       "array([[-2969.93783478,  -314.02250385, -6158.04451764, -3664.89489324,\n",
       "        -2112.21428627, -2222.41882475, -7610.79402736, -3158.28727142,\n",
       "         -622.24352301,  1306.6080932 ]])"
      ]
     },
     "execution_count": 50,
     "metadata": {},
     "output_type": "execute_result"
    }
   ],
   "source": [
    "rand_digit_scores = sgd.decision_function([rand_digit])\n",
    "rand_digit_scores"
   ]
  },
  {
   "cell_type": "code",
   "execution_count": 51,
   "id": "ca6232c8",
   "metadata": {},
   "outputs": [
    {
     "data": {
      "text/plain": [
       "9"
      ]
     },
     "execution_count": 51,
     "metadata": {},
     "output_type": "execute_result"
    }
   ],
   "source": [
    "# to select the indices of the max element of the array (rand_digit_scores)\n",
    "import numpy as np\n",
    "np.argmax(rand_digit_scores)"
   ]
  },
  {
   "cell_type": "markdown",
   "id": "5e82eb0d",
   "metadata": {},
   "source": [
    "When a classifier is trained, it stores the list of target classes in its classes_ attribute, ordered by value."
   ]
  },
  {
   "cell_type": "code",
   "execution_count": 52,
   "id": "3fba25db",
   "metadata": {},
   "outputs": [
    {
     "data": {
      "text/plain": [
       "array([0, 1, 2, 3, 4, 5, 6, 7, 8, 9])"
      ]
     },
     "execution_count": 52,
     "metadata": {},
     "output_type": "execute_result"
    }
   ],
   "source": [
    "#\n",
    "sgd.classes_"
   ]
  },
  {
   "cell_type": "markdown",
   "id": "8187a67d",
   "metadata": {},
   "source": [
    "### Evaluating Trained model"
   ]
  },
  {
   "cell_type": "markdown",
   "id": "38666fe9",
   "metadata": {},
   "source": [
    "#### Accuracy"
   ]
  },
  {
   "cell_type": "code",
   "execution_count": 58,
   "id": "fff179c1",
   "metadata": {},
   "outputs": [
    {
     "data": {
      "text/plain": [
       "0.9768089053803339"
      ]
     },
     "execution_count": 58,
     "metadata": {},
     "output_type": "execute_result"
    }
   ],
   "source": [
    "sgd.score(X_train, y_train)"
   ]
  },
  {
   "cell_type": "markdown",
   "id": "5358e225",
   "metadata": {},
   "source": [
    "#### Cross-validation"
   ]
  },
  {
   "cell_type": "code",
   "execution_count": 61,
   "id": "5819e791",
   "metadata": {},
   "outputs": [
    {
     "data": {
      "text/plain": [
       "array([0.94166667, 0.9275766 , 0.94150418])"
      ]
     },
     "execution_count": 61,
     "metadata": {},
     "output_type": "execute_result"
    }
   ],
   "source": [
    "from sklearn.model_selection import cross_val_score\n",
    "\n",
    "scores = cross_val_score(sgd, X_train, y_train, cv=3)\n",
    "scores"
   ]
  },
  {
   "cell_type": "markdown",
   "id": "6a1337d2",
   "metadata": {},
   "source": [
    "#### Scaling the training data\n",
    "Let's see the effect of scaling data on the performance of the model:"
   ]
  },
  {
   "cell_type": "code",
   "execution_count": 62,
   "id": "e3bf82ea",
   "metadata": {},
   "outputs": [
    {
     "data": {
      "text/plain": [
       "array([0.90555556, 0.94707521, 0.9275766 ])"
      ]
     },
     "execution_count": 62,
     "metadata": {},
     "output_type": "execute_result"
    }
   ],
   "source": [
    "from sklearn.preprocessing import StandardScaler\n",
    "\n",
    "scaler = StandardScaler()\n",
    "X_train_scaled = scaler.fit_transform(X_train.astype(np.float64))\n",
    "\n",
    "scores = cross_val_score(sgd, X_train_scaled, y_train, cv=3)\n",
    "scores"
   ]
  },
  {
   "cell_type": "markdown",
   "id": "681da24b",
   "metadata": {},
   "source": [
    "    😐😞🙂😲 Not much of a difference, we can conclude that scaling our features has no significant effect on performance."
   ]
  },
  {
   "cell_type": "markdown",
   "id": "5f4c1437",
   "metadata": {},
   "source": [
    "### Error Analysis\n",
    "\n",
    "Of course, if this were a real project, you would follow the steps in your Machine Learning project checklist (see Appendix B): exploring data preparation options, trying out multiple models, shortlisting the best ones and fine-tuning their hyperparameters using GridSearchCV, and automating as much as possible, as you did in the previous chapter. \n",
    "\n",
    "Here, we will assume that you have found a **promising model** and you want to find ways to improve it. One way to do this is to analyze the **types of errors** it makes."
   ]
  },
  {
   "cell_type": "markdown",
   "id": "5743ee2e",
   "metadata": {},
   "source": [
    "First, you can look at the confusion matrix. You need to make predictions using the\n",
    "cross_val_predict() function, then call the confusion_matrix() function, just like\n",
    "you did earlier:"
   ]
  },
  {
   "cell_type": "code",
   "execution_count": 63,
   "id": "d26f95e5",
   "metadata": {},
   "outputs": [
    {
     "data": {
      "text/plain": [
       "array([7, 6, 0, ..., 2, 4, 1])"
      ]
     },
     "execution_count": 63,
     "metadata": {},
     "output_type": "execute_result"
    }
   ],
   "source": [
    "from sklearn.model_selection import cross_val_predict\n",
    "from skle\n",
    "\n",
    "y_train_pred = cross_val_predict(sgd, X_train, y_train, cv=3)"
   ]
  }
 ],
 "metadata": {
  "kernelspec": {
   "display_name": "Python 3 (ipykernel)",
   "language": "python",
   "name": "python3"
  },
  "language_info": {
   "codemirror_mode": {
    "name": "ipython",
    "version": 3
   },
   "file_extension": ".py",
   "mimetype": "text/x-python",
   "name": "python",
   "nbconvert_exporter": "python",
   "pygments_lexer": "ipython3",
   "version": "3.9.6"
  }
 },
 "nbformat": 4,
 "nbformat_minor": 5
}
