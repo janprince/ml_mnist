{
 "cells": [
  {
   "cell_type": "markdown",
   "id": "dcce6743",
   "metadata": {},
   "source": [
    "### Multiclass Classification"
   ]
  },
  {
   "cell_type": "markdown",
   "id": "0d428c97",
   "metadata": {},
   "source": [
    "This notebook handles the same problem as ml_mnist_0 but with a multiclass approach"
   ]
  },
  {
   "cell_type": "code",
   "execution_count": 13,
   "id": "d537a0b6",
   "metadata": {},
   "outputs": [
    {
     "name": "stdout",
     "output_type": "stream",
     "text": [
      "dict_keys(['data', 'target', 'frame', 'feature_names', 'target_names', 'images', 'DESCR'])\n"
     ]
    }
   ],
   "source": [
    "from sklearn.datasets import load_digits\n",
    "from sklearn.model_selection import train_test_split\n",
    "\n",
    "\n",
    "mnist_data = load_digits()\n",
    "\n",
    "print(mnist_data.keys())\n",
    "\n",
    "X = mnist_data['data']\n",
    "y = mnist_data['target']"
   ]
  },
  {
   "cell_type": "markdown",
   "id": "5a1dd09b",
   "metadata": {},
   "source": [
    "#### Inspecting stuff 😁🙂😁😎"
   ]
  },
  {
   "cell_type": "code",
   "execution_count": 48,
   "id": "43e76ecc",
   "metadata": {},
   "outputs": [
    {
     "name": "stdout",
     "output_type": "stream",
     "text": [
      "[[ 0.  0.  0.  4. 11. 15. 15.  2.]\n",
      " [ 0.  1. 10. 16. 13. 14. 14.  2.]\n",
      " [ 0.  5. 16. 16. 16. 16. 14.  0.]\n",
      " [ 0.  0.  9.  8.  8. 15.  9.  0.]\n",
      " [ 0.  0.  0.  0.  1. 16.  2.  0.]\n",
      " [ 0.  0.  0.  0. 10. 10.  0.  0.]\n",
      " [ 0.  0.  0.  1. 16.  6.  0.  0.]\n",
      " [ 0.  0.  0.  3. 16.  2.  0.  0.]]\n"
     ]
    },
    {
     "data": {
      "image/png": "[encoded data removed]",
      "text/plain": [
       "<Figure size 432x288 with 1 Axes>"
      ]
     },
     "metadata": {
      "needs_background": "light"
     },
     "output_type": "display_data"
    },
    {
     "name": "stdout",
     "output_type": "stream",
     "text": [
      "Actual Value: 9\n"
     ]
    }
   ],
   "source": [
    "# plotting a randome instance in the X\n",
    "import random\n",
    "%matplotlib inline\n",
    "import matplotlib\n",
    "import matplotlib.pyplot as plt\n",
    "\n",
    "rand_int = random.randint(0, len(X))\n",
    "rand_digit = X[rand_int]\n",
    "rand_digit_image = rand_digit.reshape(8, 8)\n",
    "\n",
    "print(rand_digit_image)\n",
    "\n",
    "plt.imshow(rand_digit_image, cmap=matplotlib.cm.binary)\n",
    "plt.show()\n",
    "\n",
    "print(f\"Actual Value: {y[rand_int]}\")"
   ]
  },
  {
   "cell_type": "code",
   "execution_count": 8,
   "id": "3ca8ae52",
   "metadata": {},
   "outputs": [
    {
     "name": "stdout",
     "output_type": "stream",
     "text": [
      "(1797, 64)\n",
      "(1797,)\n"
     ]
    }
   ],
   "source": [
    "print(X.shape)\n",
    "print(y.shape)"
   ]
  },
  {
   "cell_type": "markdown",
   "id": "b6c06105",
   "metadata": {},
   "source": [
    "#### Splitting data"
   ]
  },
  {
   "cell_type": "code",
   "execution_count": 35,
   "id": "f203de43",
   "metadata": {},
   "outputs": [],
   "source": [
    "X_train, X_test, y_train, y_test = train_test_split(X, y, test_size=0.4, random_state=42)"
   ]
  },
  {
   "cell_type": "markdown",
   "id": "31f31039",
   "metadata": {},
   "source": [
    "#### Training model\n",
    "\n",
    "Some algorithms (such as Random Forest classifiers or naive Bayes classifiers) are capable of handling multiple classes directly. Others (such as Support Vector Machine classifiers or Linear classifiers) are strictly binary classifiers.\n",
    "\n",
    "However, there are various strategies that you can use to perform multiclass classification using multiple binary classifiers.\n",
    "\n",
    "For example, one way to create a system that can classify the digit images into 10 classes (from 0 to 9) is to train 10 binary classifiers, one for each digit (a 0-detector, a 1-detector, a 2-detector, and so on). Then when you want to classify an image, you get the decision score from each classifier for that image and you select the class whose classifier outputs the highest score. \n",
    "\n",
    "This is called the **one-versus-all** (OvA) strategy (also called **one-versus-the-rest**)."
   ]
  },
  {
   "cell_type": "markdown",
   "id": "0d6a6280",
   "metadata": {},
   "source": [
    "Scikit-Learn detects when you try to use a binary classification algorithm for a multiclass classification task, and it automatically runs OvA. Like the example below 👇"
   ]
  },
  {
   "cell_type": "code",
   "execution_count": 49,
   "id": "4f74bc68",
   "metadata": {},
   "outputs": [
    {
     "data": {
      "text/plain": [
       "array([9])"
      ]
     },
     "execution_count": 49,
     "metadata": {},
     "output_type": "execute_result"
    }
   ],
   "source": [
    "from sklearn.linear_model import SGDClassifier\n",
    "\n",
    "sgd = SGDClassifier(random_state=42)       # SGDClassifier is a strict binary classifier\n",
    "\n",
    "sgd.fit(X_train, y_train)       # sklearn automatically detects we are trying to use a binary classifier for a multiclass classification task and it automatically runs One-versus-All \n",
    "\n",
    "# test trained model on the rand_digit_imagabse\n",
    "sgd.predict([rand_digit])"
   ]
  },
  {
   "cell_type": "markdown",
   "id": "401188d7",
   "metadata": {},
   "source": [
    "#### Inspecting Trained model"
   ]
  },
  {
   "cell_type": "markdown",
   "id": "1771f7ab",
   "metadata": {},
   "source": [
    "Under the hood, Scikit-Learn actually trained 10 binary classifiers, got their decision scores for the image, and selected the class with the highest score.\n",
    "\n",
    "To see that this is indeed the case, you can call the decision_function() method. Instead of returning just one score per instance, it now returns 10 scores, one per\n",
    "class:"
   ]
  },
  {
   "cell_type": "code",
   "execution_count": 50,
   "id": "37c5c6c3",
   "metadata": {},
   "outputs": [
    {
     "data": {
      "text/plain": [
       "array([[-2969.93783478,  -314.02250385, -6158.04451764, -3664.89489324,\n",
       "        -2112.21428627, -2222.41882475, -7610.79402736, -3158.28727142,\n",
       "         -622.24352301,  1306.6080932 ]])"
      ]
     },
     "execution_count": 50,
     "metadata": {},
     "output_type": "execute_result"
    }
   ],
   "source": [
    "rand_digit_scores = sgd.decision_function([rand_digit])\n",
    "rand_digit_scores"
   ]
  },
  {
   "cell_type": "code",
   "execution_count": 51,
   "id": "f15f17ad",
   "metadata": {},
   "outputs": [
    {
     "data": {
      "text/plain": [
       "9"
      ]
     },
     "execution_count": 51,
     "metadata": {},
     "output_type": "execute_result"
    }
   ],
   "source": [
    "# to select the indices of the max element of the array (rand_digit_scores)\n",
    "import numpy as np\n",
    "np.argmax(rand_digit_scores)"
   ]
  },
  {
   "cell_type": "markdown",
   "id": "2a8b6593",
   "metadata": {},
   "source": [
    "When a classifier is trained, it stores the list of target classes in its classes_ attribute, ordered by value."
   ]
  },
  {
   "cell_type": "code",
   "execution_count": 52,
   "id": "74ec32c2",
   "metadata": {},
   "outputs": [
    {
     "data": {
      "text/plain": [
       "array([0, 1, 2, 3, 4, 5, 6, 7, 8, 9])"
      ]
     },
     "execution_count": 52,
     "metadata": {},
     "output_type": "execute_result"
    }
   ],
   "source": [
    "#\n",
    "sgd.classes_"
   ]
  },
  {
   "cell_type": "markdown",
   "id": "7b9985c8",
   "metadata": {},
   "source": [
    "### Evaluating Trained model"
   ]
  },
  {
   "cell_type": "markdown",
   "id": "007324cf",
   "metadata": {},
   "source": [
    "#### Accuracy"
   ]
  },
  {
   "cell_type": "code",
   "execution_count": 36,
   "id": "4bdb9cbb",
   "metadata": {},
   "outputs": [
    {
     "data": {
      "text/plain": [
       "0.9768089053803339"
      ]
     },
     "execution_count": 36,
     "metadata": {},
     "output_type": "execute_result"
    }
   ],
   "source": [
    "sgd.score(X_train, y_train)"
   ]
  },
  {
   "cell_type": "markdown",
   "id": "6e90b029",
   "metadata": {},
   "source": [
    "#### Cross-validation"
   ]
  },
  {
   "cell_type": "code",
   "execution_count": 41,
   "id": "c3e4ae2e",
   "metadata": {},
   "outputs": [
    {
     "data": {
      "text/plain": [
       "array([0.93506494, 0.94155844, 0.91558442, 0.96103896, 0.94805195,\n",
       "       0.92207792, 0.91558442])"
      ]
     },
     "execution_count": 41,
     "metadata": {},
     "output_type": "execute_result"
    }
   ],
   "source": [
    "from sklearn.model_selection import cross_val_score\n",
    "\n",
    "scores = cross_val_score(sgd, X_train, y_train, cv=7)\n",
    "scores"
   ]
  }
 ],
 "metadata": {
  "kernelspec": {
   "display_name": "Python 3 (ipykernel)",
   "language": "python",
   "name": "python3"
  },
  "language_info": {
   "codemirror_mode": {
    "name": "ipython",
    "version": 3
   },
   "file_extension": ".py",
   "mimetype": "text/x-python",
   "name": "python",
   "nbconvert_exporter": "python",
   "pygments_lexer": "ipython3",
   "version": "3.9.6"
  }
 },
 "nbformat": 4,
 "nbformat_minor": 5
}
