{
 "cells": [
  {
   "cell_type": "markdown",
   "id": "b519c988",
   "metadata": {},
   "source": [
    "### Multiclass Classification"
   ]
  },
  {
   "cell_type": "markdown",
   "id": "23957dfd",
   "metadata": {},
   "source": [
    "This notebook handles the same problem as ml_mnist_0 but with a multiclass approach"
   ]
  },
  {
   "cell_type": "code",
   "execution_count": 13,
   "id": "17f22d89",
   "metadata": {},
   "outputs": [
    {
     "name": "stdout",
     "output_type": "stream",
     "text": [
      "dict_keys(['data', 'target', 'frame', 'feature_names', 'target_names', 'images', 'DESCR'])\n"
     ]
    }
   ],
   "source": [
    "from sklearn.datasets import load_digits\n",
    "from sklearn.model_selection import train_test_split\n",
    "\n",
    "\n",
    "mnist_data = load_digits()\n",
    "\n",
    "print(mnist_data.keys())\n",
    "\n",
    "X = mnist_data['data']\n",
    "y = mnist_data['target']"
   ]
  },
  {
   "cell_type": "markdown",
   "id": "1f8fbeb9",
   "metadata": {},
   "source": [
    "#### Inspecting stuff 😁🙂😁😎"
   ]
  },
  {
   "cell_type": "code",
   "execution_count": 48,
   "id": "535a3520",
   "metadata": {},
   "outputs": [
    {
     "name": "stdout",
     "output_type": "stream",
     "text": [
      "[[ 0.  0.  0.  4. 11. 15. 15.  2.]\n",
      " [ 0.  1. 10. 16. 13. 14. 14.  2.]\n",
      " [ 0.  5. 16. 16. 16. 16. 14.  0.]\n",
      " [ 0.  0.  9.  8.  8. 15.  9.  0.]\n",
      " [ 0.  0.  0.  0.  1. 16.  2.  0.]\n",
      " [ 0.  0.  0.  0. 10. 10.  0.  0.]\n",
      " [ 0.  0.  0.  1. 16.  6.  0.  0.]\n",
      " [ 0.  0.  0.  3. 16.  2.  0.  0.]]\n"
     ]
    },
    {
     "data": {
      "image/png": "[encoded data removed]",
      "text/plain": [
       "<Figure size 432x288 with 1 Axes>"
      ]
     },
     "metadata": {
      "needs_background": "light"
     },
     "output_type": "display_data"
    },
    {
     "name": "stdout",
     "output_type": "stream",
     "text": [
      "Actual Value: 9\n"
     ]
    }
   ],
   "source": [
    "# plotting a randome instance in the X\n",
    "import random\n",
    "%matplotlib inline\n",
    "import matplotlib\n",
    "import matplotlib.pyplot as plt\n",
    "\n",
    "rand_int = random.randint(0, len(X))\n",
    "rand_digit = X[rand_int]\n",
    "rand_digit_image = rand_digit.reshape(8, 8)\n",
    "\n",
    "print(rand_digit_image)\n",
    "\n",
    "plt.imshow(rand_digit_image, cmap=matplotlib.cm.binary)\n",
    "plt.show()\n",
    "\n",
    "print(f\"Actual Value: {y[rand_int]}\")"
   ]
  },
  {
   "cell_type": "code",
   "execution_count": 8,
   "id": "247e3454",
   "metadata": {},
   "outputs": [
    {
     "name": "stdout",
     "output_type": "stream",
     "text": [
      "(1797, 64)\n",
      "(1797,)\n"
     ]
    }
   ],
   "source": [
    "print(X.shape)\n",
    "print(y.shape)"
   ]
  },
  {
   "cell_type": "markdown",
   "id": "b53e0638",
   "metadata": {},
   "source": [
    "#### Splitting data"
   ]
  },
  {
   "cell_type": "code",
   "execution_count": 35,
   "id": "9f8955d1",
   "metadata": {},
   "outputs": [],
   "source": [
    "X_train, X_test, y_train, y_test = train_test_split(X, y, test_size=0.4, random_state=42)"
   ]
  },
  {
   "cell_type": "markdown",
   "id": "7e770b75",
   "metadata": {},
   "source": [
    "#### Training model\n",
    "\n",
    "Some algorithms (such as Random Forest classifiers or naive Bayes classifiers) are capable of handling multiple classes directly. Others (such as Support Vector Machine classifiers or Linear classifiers) are strictly binary classifiers.\n",
    "\n",
    "However, there are various strategies that you can use to perform multiclass classification using multiple binary classifiers.\n",
    "\n",
    "For example, one way to create a system that can classify the digit images into 10 classes (from 0 to 9) is to train 10 binary classifiers, one for each digit (a 0-detector, a 1-detector, a 2-detector, and so on). Then when you want to classify an image, you get the decision score from each classifier for that image and you select the class whose classifier outputs the highest score. \n",
    "\n",
    "This is called the **one-versus-all** (OvA) strategy (also called **one-versus-the-rest**)."
   ]
  },
  {
   "cell_type": "markdown",
   "id": "6f18ebc5",
   "metadata": {},
   "source": [
    "Scikit-Learn detects when you try to use a binary classification algorithm for a multiclass classification task, and it automatically runs OvA. Like the example below 👇"
   ]
  },
  {
   "cell_type": "code",
   "execution_count": 49,
   "id": "3c2ad550",
   "metadata": {},
   "outputs": [
    {
     "data": {
      "text/plain": [
       "array([9])"
      ]
     },
     "execution_count": 49,
     "metadata": {},
     "output_type": "execute_result"
    }
   ],
   "source": [
    "from sklearn.linear_model import SGDClassifier\n",
    "\n",
    "sgd = SGDClassifier(random_state=42)       # SGDClassifier is a strict binary classifier\n",
    "\n",
    "sgd.fit(X_train, y_train)       # sklearn automatically detects we are trying to use a binary classifier for a multiclass classification task and it automatically runs One-versus-All \n",
    "\n",
    "# test trained model on the rand_digit_imagabse\n",
    "sgd.predict([rand_digit])"
   ]
  },
  {
   "cell_type": "markdown",
   "id": "20202dc8",
   "metadata": {},
   "source": [
    "If you want to force ScikitLearn to use one-versus-one or one-versus-all, you can use the OneVsOneClassifier or  OneVsRestClassifier classes. Simply create an instance and pass a binary classifier to its constructor. For example, this code creates a multiclass classifier using the OvO strategy, based on a SGDClassifier:"
   ]
  },
  {
   "cell_type": "code",
   "execution_count": 54,
   "id": "47e14915",
   "metadata": {},
   "outputs": [
    {
     "data": {
      "text/plain": [
       "array([9])"
      ]
     },
     "execution_count": 54,
     "metadata": {},
     "output_type": "execute_result"
    }
   ],
   "source": [
    "from sklearn.multiclass import OneVsOneClassifier\n",
    "\n",
    "ovo_clf = OneVsOneClassifier(SGDClassifier(random_state=42))\n",
    "ovo_clf.fit(X_train, y_train)\n",
    "ovo_clf.predict([rand_digit])"
   ]
  },
  {
   "cell_type": "code",
   "execution_count": 55,
   "id": "a2516235",
   "metadata": {},
   "outputs": [
    {
     "data": {
      "text/plain": [
       "45"
      ]
     },
     "execution_count": 55,
     "metadata": {},
     "output_type": "execute_result"
    }
   ],
   "source": [
    "len(ovo_clf.estimators_)"
   ]
  },
  {
   "cell_type": "markdown",
   "id": "a981030e",
   "metadata": {},
   "source": [
    "#### Inspecting Trained model"
   ]
  },
  {
   "cell_type": "markdown",
   "id": "052c4833",
   "metadata": {},
   "source": [
    "Under the hood, Scikit-Learn actually trained 10 binary classifiers, got their decision scores for the image, and selected the class with the highest score.\n",
    "\n",
    "To see that this is indeed the case, you can call the decision_function() method. Instead of returning just one score per instance, it now returns 10 scores, one per\n",
    "class:"
   ]
  },
  {
   "cell_type": "code",
   "execution_count": 50,
   "id": "5cc4b807",
   "metadata": {},
   "outputs": [
    {
     "data": {
      "text/plain": [
       "array([[-2969.93783478,  -314.02250385, -6158.04451764, -3664.89489324,\n",
       "        -2112.21428627, -2222.41882475, -7610.79402736, -3158.28727142,\n",
       "         -622.24352301,  1306.6080932 ]])"
      ]
     },
     "execution_count": 50,
     "metadata": {},
     "output_type": "execute_result"
    }
   ],
   "source": [
    "rand_digit_scores = sgd.decision_function([rand_digit])\n",
    "rand_digit_scores"
   ]
  },
  {
   "cell_type": "code",
   "execution_count": 51,
   "id": "dc448012",
   "metadata": {},
   "outputs": [
    {
     "data": {
      "text/plain": [
       "9"
      ]
     },
     "execution_count": 51,
     "metadata": {},
     "output_type": "execute_result"
    }
   ],
   "source": [
    "# to select the indices of the max element of the array (rand_digit_scores)\n",
    "import numpy as np\n",
    "np.argmax(rand_digit_scores)"
   ]
  },
  {
   "cell_type": "markdown",
   "id": "1eb2a254",
   "metadata": {},
   "source": [
    "When a classifier is trained, it stores the list of target classes in its classes_ attribute, ordered by value."
   ]
  },
  {
   "cell_type": "code",
   "execution_count": 52,
   "id": "1a2f160e",
   "metadata": {},
   "outputs": [
    {
     "data": {
      "text/plain": [
       "array([0, 1, 2, 3, 4, 5, 6, 7, 8, 9])"
      ]
     },
     "execution_count": 52,
     "metadata": {},
     "output_type": "execute_result"
    }
   ],
   "source": [
    "#\n",
    "sgd.classes_"
   ]
  },
  {
   "cell_type": "markdown",
   "id": "5eb5246c",
   "metadata": {},
   "source": [
    "### Evaluating Trained model"
   ]
  },
  {
   "cell_type": "markdown",
   "id": "7079fb73",
   "metadata": {},
   "source": [
    "#### Accuracy"
   ]
  },
  {
   "cell_type": "code",
   "execution_count": 58,
   "id": "e43961ee",
   "metadata": {},
   "outputs": [
    {
     "data": {
      "text/plain": [
       "0.9768089053803339"
      ]
     },
     "execution_count": 58,
     "metadata": {},
     "output_type": "execute_result"
    }
   ],
   "source": [
    "sgd.score(X_train, y_train)"
   ]
  },
  {
   "cell_type": "markdown",
   "id": "97605f7d",
   "metadata": {},
   "source": [
    "#### Cross-validation"
   ]
  },
  {
   "cell_type": "code",
   "execution_count": 61,
   "id": "d3caeb78",
   "metadata": {},
   "outputs": [
    {
     "data": {
      "text/plain": [
       "array([0.94166667, 0.9275766 , 0.94150418])"
      ]
     },
     "execution_count": 61,
     "metadata": {},
     "output_type": "execute_result"
    }
   ],
   "source": [
    "from sklearn.model_selection import cross_val_score\n",
    "\n",
    "scores = cross_val_score(sgd, X_train, y_train, cv=3)\n",
    "scores"
   ]
  },
  {
   "cell_type": "markdown",
   "id": "0eefc82c",
   "metadata": {},
   "source": [
    "#### Scaling the training data\n",
    "Let's see the effect of scaling data on the performance of the model:"
   ]
  },
  {
   "cell_type": "code",
   "execution_count": 62,
   "id": "98529f4e",
   "metadata": {},
   "outputs": [
    {
     "data": {
      "text/plain": [
       "array([0.90555556, 0.94707521, 0.9275766 ])"
      ]
     },
     "execution_count": 62,
     "metadata": {},
     "output_type": "execute_result"
    }
   ],
   "source": [
    "from sklearn.preprocessing import StandardScaler\n",
    "\n",
    "scaler = StandardScaler()\n",
    "X_train_scaled = scaler.fit_transform(X_train.astype(np.float64))\n",
    "\n",
    "scores = cross_val_score(sgd, X_train_scaled, y_train, cv=3)\n",
    "scores"
   ]
  },
  {
   "cell_type": "markdown",
   "id": "c769cfe9",
   "metadata": {},
   "source": [
    "    😐😞🙂😲 Not much of a difference, we can conclude that scaling our features has no significant effect on performance."
   ]
  },
  {
   "cell_type": "markdown",
   "id": "68ddd166",
   "metadata": {},
   "source": [
    "### Error Analysis\n",
    "\n",
    "Of course, if this were a real project, you would follow the steps in your Machine Learning project checklist (see Appendix B): exploring data preparation options, trying out multiple models, shortlisting the best ones and fine-tuning their hyperparameters using GridSearchCV, and automating as much as possible, as you did in the previous chapter. \n",
    "\n",
    "Here, we will assume that you have found a **promising model** and you want to find ways to improve it. One way to do this is to analyze the **types of errors** it makes."
   ]
  },
  {
   "cell_type": "markdown",
   "id": "ff71c111",
   "metadata": {},
   "source": [
    "First, you can look at the confusion matrix. You need to make predictions using the\n",
    "cross_val_predict() function, then call the confusion_matrix() function, just like\n",
    "you did earlier:"
   ]
  },
  {
   "cell_type": "code",
   "execution_count": 65,
   "id": "04260bd1",
   "metadata": {},
   "outputs": [
    {
     "data": {
      "text/plain": [
       "array([[108,   0,   0,   0,   1,   1,   1,   0,   0,   0],\n",
       "       [  0, 100,   0,   1,   1,   0,   2,   0,   2,   4],\n",
       "       [  0,   0, 110,   0,   0,   0,   0,   1,   0,   0],\n",
       "       [  0,   0,   1, 102,   0,   2,   0,   2,   2,   3],\n",
       "       [  0,   2,   0,   0,  99,   0,   0,   1,   1,   0],\n",
       "       [  1,   0,   0,   0,   0,  93,   1,   0,   0,   4],\n",
       "       [  0,   0,   0,   0,   1,   0, 110,   0,   1,   0],\n",
       "       [  0,   0,   0,   0,   4,   0,   0, 101,   1,   2],\n",
       "       [  0,   9,   1,   2,   1,   1,   3,   0,  91,   1],\n",
       "       [  0,   1,   0,   0,   1,   1,   0,   2,   2,  96]], dtype=int64)"
      ]
     },
     "execution_count": 65,
     "metadata": {},
     "output_type": "execute_result"
    }
   ],
   "source": [
    "from sklearn.model_selection import cross_val_predict\n",
    "from sklearn.metrics import confusion_matrix\n",
    "\n",
    "y_train_pred = cross_val_predict(sgd, X_train, y_train, cv=3)\n",
    "\n",
    "conf_mx = confusion_matrix(y_train, y_train_pred)\n",
    "conf_mx"
   ]
  },
  {
   "cell_type": "markdown",
   "id": "c74400ac",
   "metadata": {},
   "source": [
    "That’s a lot of numbers. It’s often more convenient to look at an image representation of the confusion matrix, using Matplotlib’s matshow() function:"
   ]
  },
  {
   "cell_type": "code",
   "execution_count": 71,
   "id": "50d8b3bc",
   "metadata": {},
   "outputs": [
    {
     "data": {
      "image/png": "[encoded data removed]",
      "text/plain": [
       "<Figure size 288x288 with 1 Axes>"
      ]
     },
     "metadata": {
      "needs_background": "light"
     },
     "output_type": "display_data"
    }
   ],
   "source": [
    "plt.matshow(conf_mx, cmap=plt.cm.gray)\n",
    "plt.show()"
   ]
  }
 ],
 "metadata": {
  "kernelspec": {
   "display_name": "Python 3 (ipykernel)",
   "language": "python",
   "name": "python3"
  },
  "language_info": {
   "codemirror_mode": {
    "name": "ipython",
    "version": 3
   },
   "file_extension": ".py",
   "mimetype": "text/x-python",
   "name": "python",
   "nbconvert_exporter": "python",
   "pygments_lexer": "ipython3",
   "version": "3.9.6"
  }
 },
 "nbformat": 4,
 "nbformat_minor": 5
}
