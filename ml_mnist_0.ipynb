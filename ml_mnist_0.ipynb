{
 "cells": [
  {
   "cell_type": "markdown",
   "id": "447d05b3",
   "metadata": {},
   "source": [
    "# Classification\n",
    "\n",
    "In this notebook, we will be using the MNIST dataset, which is a set of 70,000 small images of digits handwritten by high school students and employees of the US Census Bureau. Each image is labeled with the digit it represents. This set has been studied\n",
    "so much that it is often called the “Hello World” of Machine Learning: whenever people come up with a new classification algorithm, they are curious to see how it will perform on MNIST. Whenever someone learns Machine Learning, sooner or\n",
    "later they tackle MNIST. \n",
    "\n",
    "Scikit-Learn provides many helper functions to download popular datasets. MNIST is\n",
    "one of them. The following code fetches the MNIST dataset:1"
   ]
  },
  {
   "cell_type": "code",
   "execution_count": 2,
   "id": "1c7cb943",
   "metadata": {},
   "outputs": [
    {
     "data": {
      "text/plain": [
       "dict_keys(['data', 'target', 'frame', 'feature_names', 'target_names', 'images', 'DESCR'])"
      ]
     },
     "execution_count": 2,
     "metadata": {},
     "output_type": "execute_result"
    }
   ],
   "source": [
    "# imports\n",
    "from sklearn.datasets import load_digits\n",
    "%matplotlib inline\n",
    "import matplotlib\n",
    "import matplotlib.pyplot as plt\n",
    "\n",
    "mnist = load_digits()\n",
    "\n",
    "mnist.keys()"
   ]
  },
  {
   "cell_type": "code",
   "execution_count": 3,
   "id": "c15c04a6",
   "metadata": {},
   "outputs": [
    {
     "name": "stdout",
     "output_type": "stream",
     "text": [
      "(1797, 64)\n",
      "(1797,)\n"
     ]
    }
   ],
   "source": [
    "# main data\n",
    "X = mnist[\"data\"]\n",
    "\n",
    "# target array\n",
    "y = mnist[\"target\"]\n",
    "\n",
    "print(X.shape)\n",
    "print(y.shape)"
   ]
  },
  {
   "cell_type": "code",
   "execution_count": 4,
   "id": "8c31f175",
   "metadata": {},
   "outputs": [
    {
     "data": {
      "image/png": "[encoded data removed]",
      "text/plain": [
       "<Figure size 432x288 with 1 Axes>"
      ]
     },
     "metadata": {
      "needs_background": "light"
     },
     "output_type": "display_data"
    },
    {
     "name": "stdout",
     "output_type": "stream",
     "text": [
      "3\n"
     ]
    }
   ],
   "source": [
    "import random\n",
    "\n",
    "# a sample instance\n",
    "random_num = random.randint(0, 1100)\n",
    "some_digit = X[random_num]\n",
    "some_digit_image = some_digit.reshape(8, 8)\n",
    "\n",
    "plt.imshow(some_digit_image, cmap=matplotlib.cm.binary, interpolation=\"nearest\")\n",
    "# plt.axis(\"off\")\n",
    "plt.show()\n",
    "\n",
    "print(y[random_num])"
   ]
  },
  {
   "cell_type": "markdown",
   "id": "e4450c45",
   "metadata": {},
   "source": [
    "#### Splitting data"
   ]
  },
  {
   "cell_type": "code",
   "execution_count": 5,
   "id": "fb2bf97b",
   "metadata": {},
   "outputs": [],
   "source": [
    "X_train, X_test, y_train, y_test = X[: 1100], X[1100:], y[: 1100], y[1100:]\n",
    "\n",
    "import numpy as np\n",
    "\n",
    "shuffle_index = np.random.permutation(1100)\n",
    "X_train, y_train = X_train[shuffle_index], y_train[shuffle_index]"
   ]
  },
  {
   "cell_type": "markdown",
   "id": "995786fb",
   "metadata": {},
   "source": [
    "### Training a binary classifier"
   ]
  },
  {
   "cell_type": "markdown",
   "id": "e8caffc9",
   "metadata": {},
   "source": [
    "Simplifying the problem for now and only try to identify one digit—for example, the number 5. This **“5-detector”** will be an example of a binary classifier, capable of distinguishing between just two classes, 5 and not-5. Let’s create the target vectors for this classification task:"
   ]
  },
  {
   "cell_type": "code",
   "execution_count": 6,
   "id": "496a406a",
   "metadata": {},
   "outputs": [
    {
     "data": {
      "text/plain": [
       "array([False, False, False, ..., False, False, False])"
      ]
     },
     "execution_count": 6,
     "metadata": {},
     "output_type": "execute_result"
    }
   ],
   "source": [
    "y_train_5 = (y_train == 5)     # True for all 5s; False for all other digits\n",
    "y_test_5 = (y_test == 5)\n",
    "\n",
    "# Now our y arrays have only two classes; True and False (5 or not 5)\n",
    "\n",
    "y_train_5"
   ]
  },
  {
   "cell_type": "code",
   "execution_count": 6,
   "id": "b7a02e42",
   "metadata": {},
   "outputs": [
    {
     "data": {
      "text/plain": [
       "array([False])"
      ]
     },
     "execution_count": 6,
     "metadata": {},
     "output_type": "execute_result"
    }
   ],
   "source": [
    "from sklearn.linear_model import SGDClassifier\n",
    "\"\"\"\n",
    "The SGDClassifier relies on randomness during training (hence the name “stochastic”). If you want reproducible results, you\n",
    "should set the random_state parameter.\n",
    "\"\"\"\n",
    "\n",
    "sgd_clf = SGDClassifier(random_state=42)\n",
    "sgd_clf.fit(X_train, y_train_5)\n",
    "\n",
    "# predict on an instance\n",
    "sgd_clf.predict([some_digit])"
   ]
  },
  {
   "cell_type": "markdown",
   "id": "af279863",
   "metadata": {},
   "source": [
    "## Performance Measures"
   ]
  },
  {
   "cell_type": "markdown",
   "id": "85a2fce1",
   "metadata": {},
   "source": [
    "Evaluating a classifier is often significantly trickier than evaluating a regressor, so we will spend a large part of this chapter on this topic. There are many performance measures available."
   ]
  },
  {
   "cell_type": "markdown",
   "id": "04974ef3",
   "metadata": {},
   "source": [
    "### 1. Measuring Accuracy Using Cross Validation\n",
    "A good way to evaluate a model is to use cross validation"
   ]
  },
  {
   "cell_type": "code",
   "execution_count": 7,
   "id": "591abbdb",
   "metadata": {},
   "outputs": [
    {
     "data": {
      "text/plain": [
       "array([0.98910082, 0.97820163, 0.99180328])"
      ]
     },
     "execution_count": 7,
     "metadata": {},
     "output_type": "execute_result"
    }
   ],
   "source": [
    "from sklearn.model_selection import cross_val_score\n",
    "cross_val_score(sgd_clf, X_train, y_train_5, cv=3, scoring=\"accuracy\")"
   ]
  },
  {
   "cell_type": "markdown",
   "id": "981a7a9b",
   "metadata": {},
   "source": [
    "Wow! Above 96% accuracy (ratio of correct predictions) on all cross-validation folds? This looks amazing, doesn’t it? \n",
    "Well, before you get too excited, let’s look at a very dumb classifier that just classifies every single image in the “not-5” class:"
   ]
  },
  {
   "cell_type": "code",
   "execution_count": 8,
   "id": "9a80356c",
   "metadata": {},
   "outputs": [
    {
     "data": {
      "text/plain": [
       "array([0.88283379, 0.90463215, 0.90710383])"
      ]
     },
     "execution_count": 8,
     "metadata": {},
     "output_type": "execute_result"
    }
   ],
   "source": [
    "from sklearn.base import BaseEstimator\n",
    "\n",
    "class Never5Classifier(BaseEstimator):\n",
    "    def fit(self, X, y=None):\n",
    "        pass\n",
    "    def predict(self, X):\n",
    "        return np.zeros((len(X), 1), dtype=bool)\n",
    "\n",
    "never_5_clf = Never5Classifier()\n",
    "\n",
    "# evaluating dumb classfier with cross-validation\n",
    "cross_val_score(never_5_clf, X_train, y_train_5, cv=3, scoring=\"accuracy\")"
   ]
  },
  {
   "cell_type": "markdown",
   "id": "546d7bb1",
   "metadata": {},
   "source": [
    "That’s right, it has over 88% accuracy! This is simply because only about 10% of the images are 5s, so if you always guess that an image is not a 5, you will be right about 90% of the time. Beats Nostradamus.\n",
    "\n",
    "This demonstrates why accuracy is generally **not the preferred performance measure for classifiers**, especially when you are dealing with skewed datasets (i.e., when some classes are much more frequent than others).\n",
    "\n",
    "Also known as Class Imbalance."
   ]
  },
  {
   "cell_type": "markdown",
   "id": "6c807464",
   "metadata": {},
   "source": [
    "### 2. Confusion Matrix\n",
    "\n",
    "A much better way to evaluate the performance of a classifier is to look at the confusion matrix. \n",
    "**A confusion matrix is a summary of prediction results on a classification problem**\n",
    "\n",
    "The general idea is to count the number of times instances of class A are classified as class B. \n",
    "For example, to know the number of times the classifier confused images of 5s with 3s, you would look in the 5th row and 3rd column of the confusion matrix.\n",
    "\n",
    "To compute the confusion matrix, you first need to have a set of predictions, so they can be compared to the actual targets. You could make predictions on the test set, but let’s keep it untouched for now (remember that you want to use the test set only at the very end of your project, once you have a classifier that you are ready to launch. Instead, you can use the cross_val_predict() function:\n",
    "\n",
    "The function **cross_val_predict** has a similar interface to **cross_val_score**, but returns, for each element in the input, the **prediction that was obtained for that element when it was in the test set**."
   ]
  },
  {
   "cell_type": "code",
   "execution_count": 9,
   "id": "67f192d8",
   "metadata": {},
   "outputs": [
    {
     "data": {
      "text/plain": [
       "array([False, False, False, ..., False, False, False])"
      ]
     },
     "execution_count": 9,
     "metadata": {},
     "output_type": "execute_result"
    }
   ],
   "source": [
    "from sklearn.model_selection import cross_val_predict\n",
    "\n",
    "y_train_pred = cross_val_predict(sgd_clf, X_train, y_train_5, cv=3)\n",
    "y_train_pred"
   ]
  },
  {
   "cell_type": "markdown",
   "id": "19625ed5",
   "metadata": {},
   "source": [
    "Each **row** in a confusion matrix represents an **actual class**, while each **column represents a **predicted class**. \n",
    "\n",
    "The first row of this matrix considers non-5 images (the negative class): **974** of them were correctly classified as **non-5s** (they are called true negatives), while the **remaining 14 were wrongly classified as 5s** (false positives).\n",
    "\n",
    "The second row considers the images of 5s (the positive class): 7 were wrongly classified as non-5s (false negatives), while the remaining 105 were correctly classified as 5s (true positives). A perfect classifier would have only true positives and true negatives, so its confusion matrix would have nonzero values only on its main diagonal (top left to bottom right):"
   ]
  },
  {
   "cell_type": "code",
   "execution_count": 10,
   "id": "fb5970b6",
   "metadata": {},
   "outputs": [
    {
     "data": {
      "text/plain": [
       "array([[986,   2],\n",
       "       [ 13,  99]], dtype=int64)"
      ]
     },
     "execution_count": 10,
     "metadata": {},
     "output_type": "execute_result"
    }
   ],
   "source": [
    "from sklearn.metrics import confusion_matrix\n",
    "\n",
    "confusion_matrix(y_train_5, y_train_pred)"
   ]
  },
  {
   "cell_type": "markdown",
   "id": "947b4a01",
   "metadata": {},
   "source": [
    "### Precision and Recall\n",
    "\n",
    "The confusion matrix gives you a lot of information, but sometimes you may prefer a more concise metric. \n",
    "\n",
    "An interesting one to look at is the accuracy of the positive predictions; This is called the **precision of the classifier**.\n",
    "\n",
    "*precision = TP / (TP + FP)*\n",
    "\n",
    "TP is the number of true positives, and FP is the number of false positives.\n",
    "\n",
    "A trivial way to have perfect precision is to make one single positive prediction and ensure it is correct (precision = 1/1 = 100%). This would not be very useful since the classifier would ignore all but one positive instance. \n",
    "\n",
    "So precision is typically used along with another metric named **recall**, also called **sensitivity** or **true positive rate\n",
    "(TPR):** this is the ratio of positive instances that are correctly detected by the classifier\n",
    "\n",
    "*recall = TP / (TP + FN)*\n",
    "\n",
    "FN is of course the number of false negatives."
   ]
  },
  {
   "cell_type": "markdown",
   "id": "ab5b6b1c",
   "metadata": {},
   "source": [
    "Scikit-Learn provides several functions to compute classifier metrics, including precision and recall:"
   ]
  },
  {
   "cell_type": "code",
   "execution_count": 11,
   "id": "055e0230",
   "metadata": {},
   "outputs": [
    {
     "name": "stdout",
     "output_type": "stream",
     "text": [
      "Precision: 0.9801980198019802 \n",
      "Recall: 0.8839285714285714\n"
     ]
    }
   ],
   "source": [
    "from sklearn.metrics import precision_score, recall_score\n",
    "\n",
    "precision = precision_score(y_train_5, y_train_pred)\n",
    "recall = recall_score(y_train_5, y_train_pred)\n",
    "\n",
    "print(f\"Precision: {precision} \\nRecall: {recall}\")"
   ]
  },
  {
   "cell_type": "markdown",
   "id": "0dc0d0a6",
   "metadata": {},
   "source": [
    "When the \"5-detector\" claims an image represents a 5, it is correct only 94% of the time. Moreover, it only detects 95% of the 5s."
   ]
  },
  {
   "cell_type": "markdown",
   "id": "aba94650",
   "metadata": {},
   "source": [
    "It is often **convenient to combine precision and recall** into a single metric called the **F1 score**, in particular if you need a simple way to **compare two classifiers.** \n",
    "\n",
    "The F1 score is the harmonic mean of precision and recall (Equation 3-3). Whereas the regular mean treats all values equally, the harmonic mean gives much more weight to low values. \n",
    "\n",
    "As a result, the classifier will only get a **high F1 score if both recall and precision are high.**"
   ]
  },
  {
   "cell_type": "code",
   "execution_count": 13,
   "id": "88e852eb",
   "metadata": {},
   "outputs": [
    {
     "data": {
      "text/plain": [
       "0.9295774647887323"
      ]
     },
     "execution_count": 13,
     "metadata": {},
     "output_type": "execute_result"
    }
   ],
   "source": [
    "from sklearn.metrics import f1_score\n",
    "\n",
    "f1_score = f1_score(y_train_5, y_train_pred)\n",
    "f1_score"
   ]
  },
  {
   "cell_type": "markdown",
   "id": "ae5c24bc",
   "metadata": {},
   "source": [
    "### Precision/Recall tradeoff"
   ]
  },
  {
   "cell_type": "markdown",
   "id": "9b37a592",
   "metadata": {},
   "source": [
    "To understand this tradeoff, let’s look at how the SGDClassifier makes its classification decisions. \n",
    "\n",
    "For each instance, it computes a score based on a **decision function,** and if that score is greater than a threshold, it assigns the instance to the positive class, or else it assigns it to the negative class.\n",
    "\n",
    "Scikit-Learn does not let you set the threshold directly, but it does give you access to the decision scores that it uses to make predictions. Instead of calling the classifier’s predict() method, you can call its decision_function() method, which returns a score for each instance."
   ]
  },
  {
   "cell_type": "markdown",
   "id": "f27ae94f",
   "metadata": {},
   "source": [
    "In this case we are using the **cross_val_predict** with the **decision_function** method to get the decision scores that are used to make the predictions instead of the predictions themselves."
   ]
  },
  {
   "cell_type": "code",
   "execution_count": 17,
   "id": "4491e843",
   "metadata": {},
   "outputs": [
    {
     "data": {
      "text/plain": [
       "array([-2360.64554847, -2368.48517217, -2860.70154578, ...,\n",
       "       -6710.62179168, -1834.42408748, -7602.37779206])"
      ]
     },
     "execution_count": 17,
     "metadata": {},
     "output_type": "execute_result"
    }
   ],
   "source": [
    "y_scores = cross_val_predict(sgd_clf, X_train, y_train_5, cv=3, method=\"decision_function\")\n",
    "y_scores"
   ]
  },
  {
   "cell_type": "markdown",
   "id": "1f2bf6df",
   "metadata": {},
   "source": [
    "Now with these scores you can compute precision and recall for all possible thresholds using the precision_recall_curve() function:"
   ]
  },
  {
   "cell_type": "code",
   "execution_count": 29,
   "id": "05aef6a2",
   "metadata": {},
   "outputs": [],
   "source": [
    "from sklearn.metrics import precision_recall_curve\n",
    "\n",
    "precisions, recalls, thresholds = precision_recall_curve(y_train_5, y_scores)"
   ]
  },
  {
   "cell_type": "markdown",
   "id": "c27faddc",
   "metadata": {},
   "source": [
    "The above gives a precision and recall for each threshold in thresholds"
   ]
  },
  {
   "cell_type": "markdown",
   "id": "4ab874fc",
   "metadata": {},
   "source": [
    "Finally, you can plot precision and recall as functions of the threshold value using Matplotlib"
   ]
  },
  {
   "cell_type": "code",
   "execution_count": 27,
   "id": "aefc2d32",
   "metadata": {},
   "outputs": [],
   "source": [
    "def plot_precision_recall_vs_threshold(precisions, recalls, thresholds):\n",
    "    plt.plot(thresholds, precisions[:-1], \"b-\", label=\"Precision\")\n",
    "    plt.plot(thresholds, recalls[:-1], \"g-\", label=\"Recall\")\n",
    "    plt.xlabel(\"Threshold\")\n",
    "    plt.legend(loc=\"upper left\")\n",
    "    plt.ylim([0, 1])"
   ]
  },
  {
   "cell_type": "code",
   "execution_count": 31,
   "id": "38cfff46",
   "metadata": {},
   "outputs": [
    {
     "data": {
      "image/png": "[encoded data removed]",
      "text/plain": [
       "<Figure size 432x288 with 1 Axes>"
      ]
     },
     "metadata": {
      "needs_background": "light"
     },
     "output_type": "display_data"
    }
   ],
   "source": [
    "plot_precision_recall_vs_threshold(precisions, recalls, thresholds)\n",
    "plt.show()"
   ]
  },
  {
   "cell_type": "markdown",
   "id": "48699a30",
   "metadata": {},
   "source": [
    "Now you can simply select the threshold value that gives you the best precision/recall tradeoff for your task. \n",
    "\n",
    "Another way to select a good precision/recall tradeoff is to plot **precision directly against recall**"
   ]
  },
  {
   "cell_type": "code",
   "execution_count": 35,
   "id": "328af5ef",
   "metadata": {},
   "outputs": [
    {
     "data": {
      "image/png": "[encoded data removed]",
      "text/plain": [
       "<Figure size 432x288 with 1 Axes>"
      ]
     },
     "metadata": {
      "needs_background": "light"
     },
     "output_type": "display_data"
    }
   ],
   "source": [
    "plt.plot(recalls, precisions,)\n",
    "plt.xlabel(\"Recall\")\n",
    "plt.ylabel(\"Precision\")\n",
    "plt.show()"
   ]
  }
 ],
 "metadata": {
  "kernelspec": {
   "display_name": "Python 3 (ipykernel)",
   "language": "python",
   "name": "python3"
  },
  "language_info": {
   "codemirror_mode": {
    "name": "ipython",
    "version": 3
   },
   "file_extension": ".py",
   "mimetype": "text/x-python",
   "name": "python",
   "nbconvert_exporter": "python",
   "pygments_lexer": "ipython3",
   "version": "3.9.6"
  }
 },
 "nbformat": 4,
 "nbformat_minor": 5
}